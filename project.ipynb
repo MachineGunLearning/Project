{
  "nbformat": 4,
  "nbformat_minor": 0,
  "metadata": {
    "accelerator": "GPU",
    "colab": {
      "name": "project.ipynb",
      "provenance": [],
      "collapsed_sections": [],
      "machine_shape": "hm",
      "include_colab_link": true
    },
    "kernelspec": {
      "display_name": "Python 3",
      "name": "python3"
    }
  },
  "cells": [
    {
      "cell_type": "markdown",
      "metadata": {
        "id": "view-in-github",
        "colab_type": "text"
      },
      "source": [
        "<a href=\"https://colab.research.google.com/github/MachineGunLearning/Project/blob/main/project.ipynb\" target=\"_parent\"><img src=\"https://colab.research.google.com/assets/colab-badge.svg\" alt=\"Open In Colab\"/></a>"
      ]
    },
    {
      "cell_type": "code",
      "metadata": {
        "colab": {
          "base_uri": "https://localhost:8080/"
        },
        "id": "kUbJKJNFASXp",
        "outputId": "7264fd71-cd09-4a79-8c49-7e16af28f93f"
      },
      "source": [
        "from google.colab import drive\n",
        "\n",
        "drive.mount('/content/drive', force_remount=True)"
      ],
      "execution_count": 1,
      "outputs": [
        {
          "output_type": "stream",
          "text": [
            "Mounted at /content/drive\n"
          ],
          "name": "stdout"
        }
      ]
    },
    {
      "cell_type": "code",
      "metadata": {
        "id": "3ptg62pWCvZn"
      },
      "source": [
        "import numpy as np \n",
        "import pandas as pd\n",
        "import os\n",
        "import cv2\n",
        "import pickle\n",
        "import matplotlib.pyplot as plt\n",
        "from random import shuffle\n",
        "from tqdm import tqdm\n",
        "import tensorflow as tf\n",
        "from tensorflow import keras\n",
        "from tensorflow.keras.models import Sequential\n",
        "from tensorflow.keras.layers import Dense, Dropout,Activation,Flatten, Conv2D, MaxPooling2D\n",
        "from sklearn.model_selection import GridSearchCV\n",
        "from sklearn.datasets import make_circles\n",
        "from sklearn.metrics import accuracy_score, precision_score, recall_score, f1_score, cohen_kappa_score, roc_auc_score, confusion_matrix, average_precision_score, precision_recall_curve, plot_precision_recall_curve\n",
        "from keras.wrappers.scikit_learn import KerasClassifier\n",
        "from google.colab import files\n"
      ],
      "execution_count": 2,
      "outputs": []
    },
    {
      "cell_type": "code",
      "metadata": {
        "id": "OUmgYd0AC7f_"
      },
      "source": [
        "#renaming real and fake directories\n",
        "real = \"/content/drive/My Drive/archive/real_and_fake_face/training_real\"\n",
        "fake = \"/content/drive/My Drive/archive/real_and_fake_face/training_fake\"\n",
        "#creating a list of real and fake images\n",
        "real_path = os.listdir(real)\n",
        "fake_path = os.listdir(fake)\n",
        "shuffle(fake_path)"
      ],
      "execution_count": 3,
      "outputs": []
    },
    {
      "cell_type": "code",
      "metadata": {
        "colab": {
          "base_uri": "https://localhost:8080/"
        },
        "id": "PEPr29FYC93T",
        "outputId": "ff76e0db-fe66-45eb-c534-4fee13b14125"
      },
      "source": [
        "#Preprossesing the dataset; resize, grayscale, adding label\n",
        "#Splitting 80:20 into training and test\n",
        "img_size = 128\n",
        "def create_training_data():\n",
        "    training_data = []\n",
        "    for img in tqdm(real_path[:865]):\n",
        "        path = os.path.join(real, img)\n",
        "        label = [0] \n",
        "        image = cv2.resize( cv2.imread(path, cv2.IMREAD_GRAYSCALE), (img_size,img_size) )\n",
        "        training_data.append([np.array(image), np.array(label)])\n",
        "        \n",
        "    for img in tqdm(fake_path[:768]):\n",
        "        path = os.path.join(fake, img)\n",
        "        label = [1] \n",
        "        image = cv2.resize(cv2.imread(path, cv2.IMREAD_GRAYSCALE), (img_size,img_size))\n",
        "        training_data.append([np.array(image), np.array(label)])\n",
        "\n",
        "    shuffle(training_data)\n",
        "    return(training_data)\n",
        "\n",
        "#Creating a list of test data\n",
        "def create_test_data():\n",
        "    test_data = []\n",
        "    for img in tqdm(real_path[865:]):\n",
        "        path = os.path.join(real, img)\n",
        "        label = [0] \n",
        "        image = cv2.resize( cv2.imread(path, cv2.IMREAD_GRAYSCALE), (img_size,img_size) )\n",
        "        test_data.append([np.array(image), np.array(label)])\n",
        "        \n",
        "    for img in tqdm(fake_path[768:]):\n",
        "        path = os.path.join(fake, img)\n",
        "        label = [1] \n",
        "        image = cv2.resize(cv2.imread(path, cv2.IMREAD_GRAYSCALE), (img_size,img_size))\n",
        "        test_data.append([np.array(image), np.array(label)])\n",
        "\n",
        "    shuffle(test_data)\n",
        "    return(test_data)\n",
        "\n",
        "train_data = create_training_data()\n",
        "test_data = create_test_data()"
      ],
      "execution_count": 4,
      "outputs": [
        {
          "output_type": "stream",
          "text": [
            "100%|██████████| 865/865 [07:45<00:00,  1.86it/s]\n",
            "100%|██████████| 768/768 [06:50<00:00,  1.87it/s]\n",
            "100%|██████████| 216/216 [01:57<00:00,  1.84it/s]\n",
            "100%|██████████| 192/192 [01:39<00:00,  1.93it/s]\n"
          ],
          "name": "stderr"
        }
      ]
    },
    {
      "cell_type": "code",
      "metadata": {
        "id": "yd2XaGdOC-eI",
        "colab": {
          "base_uri": "https://localhost:8080/"
        },
        "outputId": "0c3b02b7-7912-41d6-cded-114b771b6bb3"
      },
      "source": [
        "img_size = 128\n",
        "#Seperating features and labels, to be able to feed into the model\n",
        "train_img = []\n",
        "train_lab = []\n",
        "test_img = []\n",
        "test_lab = []\n",
        "\n",
        "for i in train_data:\n",
        "    train_img.append(i[0])\n",
        "    train_lab.append(i[1])\n",
        "    \n",
        "for i in test_data:\n",
        "    test_img.append(i[0])\n",
        "    test_lab.append(i[1])\n",
        "    \n",
        "#Reshape image \n",
        "train_img = np.array(train_img).reshape(-1, img_size, img_size, 1)\n",
        "test_img = np.array(test_img).reshape(-1, img_size, img_size, 1)\n",
        "\n",
        "#Divide by 255 to squish values to 0 - 1\n",
        "train_img = train_img/255.0\n",
        "train_lab = np.array(train_lab)\n",
        "\n",
        "test_img = test_img/255.0\n",
        "test_lab = np.array(test_lab)\n"
      ],
      "execution_count": 5,
      "outputs": [
        {
          "output_type": "stream",
          "text": [
            "[[[213]\n",
            "  [208]\n",
            "  [211]\n",
            "  ...\n",
            "  [141]\n",
            "  [144]\n",
            "  [154]]\n",
            "\n",
            " [[212]\n",
            "  [208]\n",
            "  [209]\n",
            "  ...\n",
            "  [141]\n",
            "  [144]\n",
            "  [154]]\n",
            "\n",
            " [[215]\n",
            "  [211]\n",
            "  [209]\n",
            "  ...\n",
            "  [139]\n",
            "  [146]\n",
            "  [153]]\n",
            "\n",
            " ...\n",
            "\n",
            " [[198]\n",
            "  [192]\n",
            "  [195]\n",
            "  ...\n",
            "  [ 21]\n",
            "  [ 18]\n",
            "  [ 16]]\n",
            "\n",
            " [[199]\n",
            "  [187]\n",
            "  [187]\n",
            "  ...\n",
            "  [ 21]\n",
            "  [ 22]\n",
            "  [ 18]]\n",
            "\n",
            " [[203]\n",
            "  [184]\n",
            "  [198]\n",
            "  ...\n",
            "  [ 27]\n",
            "  [ 21]\n",
            "  [ 23]]]\n",
            "[[[0.83529412]\n",
            "  [0.81568627]\n",
            "  [0.82745098]\n",
            "  ...\n",
            "  [0.55294118]\n",
            "  [0.56470588]\n",
            "  [0.60392157]]\n",
            "\n",
            " [[0.83137255]\n",
            "  [0.81568627]\n",
            "  [0.81960784]\n",
            "  ...\n",
            "  [0.55294118]\n",
            "  [0.56470588]\n",
            "  [0.60392157]]\n",
            "\n",
            " [[0.84313725]\n",
            "  [0.82745098]\n",
            "  [0.81960784]\n",
            "  ...\n",
            "  [0.54509804]\n",
            "  [0.57254902]\n",
            "  [0.6       ]]\n",
            "\n",
            " ...\n",
            "\n",
            " [[0.77647059]\n",
            "  [0.75294118]\n",
            "  [0.76470588]\n",
            "  ...\n",
            "  [0.08235294]\n",
            "  [0.07058824]\n",
            "  [0.0627451 ]]\n",
            "\n",
            " [[0.78039216]\n",
            "  [0.73333333]\n",
            "  [0.73333333]\n",
            "  ...\n",
            "  [0.08235294]\n",
            "  [0.08627451]\n",
            "  [0.07058824]]\n",
            "\n",
            " [[0.79607843]\n",
            "  [0.72156863]\n",
            "  [0.77647059]\n",
            "  ...\n",
            "  [0.10588235]\n",
            "  [0.08235294]\n",
            "  [0.09019608]]]\n"
          ],
          "name": "stdout"
        }
      ]
    },
    {
      "cell_type": "code",
      "metadata": {
        "colab": {
          "base_uri": "https://localhost:8080/"
        },
        "id": "PrzE1ZZFcmQP",
        "outputId": "9658d4ea-5127-404d-efea-58d676e23115"
      },
      "source": [
        "#Building our CNN model\n",
        "model = Sequential()\n",
        "\n",
        "#Layer 1\n",
        "model.add(Conv2D(64,(3,3), activation=\"relu\", input_shape=(128, 128, 1))) \n",
        "model.add(MaxPooling2D(pool_size=(2,2)))\n",
        "model.add(Dropout(0.4))\n",
        "\n",
        "#Layer 3\n",
        "model.add(Conv2D(32,(3,3), activation=\"relu\")) \n",
        "model.add(MaxPooling2D(pool_size=(2,2)))\n",
        "\n",
        "#Layer 4\n",
        "model.add(Conv2D(32,(3,3), activation=\"relu\")) \n",
        "model.add(MaxPooling2D(pool_size=(2,2)))\n",
        "model.add(Dropout(0.4))\n",
        "\n",
        "#Fully Connected Layer\n",
        "model.add(Flatten()) \n",
        "model.add(Dense(64))\n",
        "\n",
        "#Output Sigmoid Layer\n",
        "model.add(Dense(1, activation =\"sigmoid\"))\n",
        "\n",
        "opt = keras.optimizers.Adam(learning_rate=0.0002)\n",
        "model.compile(loss = \"binary_crossentropy\", optimizer = opt, metrics = ['accuracy'])\n",
        "\n",
        "#Training the model\n",
        "history = model.fit(train_img, train_lab, batch_size = 16, epochs = 50, verbose = 1, validation_split = 0.2)\n"
      ],
      "execution_count": 6,
      "outputs": [
        {
          "output_type": "stream",
          "text": [
            "Epoch 1/50\n",
            "82/82 [==============================] - 1s 9ms/step - loss: 0.7048 - accuracy: 0.5054 - val_loss: 0.6895 - val_accuracy: 0.5474\n",
            "Epoch 2/50\n",
            "82/82 [==============================] - 0s 6ms/step - loss: 0.6846 - accuracy: 0.5559 - val_loss: 0.6870 - val_accuracy: 0.5352\n",
            "Epoch 3/50\n",
            "82/82 [==============================] - 0s 6ms/step - loss: 0.6760 - accuracy: 0.6034 - val_loss: 0.6845 - val_accuracy: 0.5566\n",
            "Epoch 4/50\n",
            "82/82 [==============================] - 0s 6ms/step - loss: 0.6640 - accuracy: 0.6087 - val_loss: 0.6800 - val_accuracy: 0.5994\n",
            "Epoch 5/50\n",
            "82/82 [==============================] - 0s 6ms/step - loss: 0.6498 - accuracy: 0.6294 - val_loss: 0.6837 - val_accuracy: 0.5810\n",
            "Epoch 6/50\n",
            "82/82 [==============================] - 0s 6ms/step - loss: 0.6461 - accuracy: 0.6263 - val_loss: 0.6822 - val_accuracy: 0.5933\n",
            "Epoch 7/50\n",
            "82/82 [==============================] - 1s 6ms/step - loss: 0.6282 - accuracy: 0.6478 - val_loss: 0.6795 - val_accuracy: 0.5902\n",
            "Epoch 8/50\n",
            "82/82 [==============================] - 0s 6ms/step - loss: 0.6287 - accuracy: 0.6462 - val_loss: 0.6734 - val_accuracy: 0.5933\n",
            "Epoch 9/50\n",
            "82/82 [==============================] - 0s 6ms/step - loss: 0.6063 - accuracy: 0.6776 - val_loss: 0.6769 - val_accuracy: 0.5963\n",
            "Epoch 10/50\n",
            "82/82 [==============================] - 0s 6ms/step - loss: 0.5991 - accuracy: 0.6815 - val_loss: 0.6851 - val_accuracy: 0.5933\n",
            "Epoch 11/50\n",
            "82/82 [==============================] - 1s 6ms/step - loss: 0.5788 - accuracy: 0.6922 - val_loss: 0.6851 - val_accuracy: 0.5841\n",
            "Epoch 12/50\n",
            "82/82 [==============================] - 0s 6ms/step - loss: 0.5752 - accuracy: 0.7014 - val_loss: 0.6820 - val_accuracy: 0.5719\n",
            "Epoch 13/50\n",
            "82/82 [==============================] - 1s 6ms/step - loss: 0.5685 - accuracy: 0.6907 - val_loss: 0.6922 - val_accuracy: 0.5810\n",
            "Epoch 14/50\n",
            "82/82 [==============================] - 0s 6ms/step - loss: 0.5617 - accuracy: 0.7037 - val_loss: 0.6887 - val_accuracy: 0.5902\n",
            "Epoch 15/50\n",
            "82/82 [==============================] - 1s 6ms/step - loss: 0.5362 - accuracy: 0.7213 - val_loss: 0.6958 - val_accuracy: 0.6024\n",
            "Epoch 16/50\n",
            "82/82 [==============================] - 1s 7ms/step - loss: 0.5279 - accuracy: 0.7320 - val_loss: 0.7010 - val_accuracy: 0.5902\n",
            "Epoch 17/50\n",
            "82/82 [==============================] - 1s 7ms/step - loss: 0.5301 - accuracy: 0.7205 - val_loss: 0.7036 - val_accuracy: 0.5749\n",
            "Epoch 18/50\n",
            "82/82 [==============================] - 1s 7ms/step - loss: 0.5146 - accuracy: 0.7443 - val_loss: 0.7176 - val_accuracy: 0.5780\n",
            "Epoch 19/50\n",
            "82/82 [==============================] - 1s 7ms/step - loss: 0.5006 - accuracy: 0.7649 - val_loss: 0.7143 - val_accuracy: 0.5963\n",
            "Epoch 20/50\n",
            "82/82 [==============================] - 1s 7ms/step - loss: 0.4993 - accuracy: 0.7611 - val_loss: 0.7130 - val_accuracy: 0.6147\n",
            "Epoch 21/50\n",
            "82/82 [==============================] - 1s 7ms/step - loss: 0.4721 - accuracy: 0.7787 - val_loss: 0.7215 - val_accuracy: 0.5719\n",
            "Epoch 22/50\n",
            "82/82 [==============================] - 1s 7ms/step - loss: 0.4697 - accuracy: 0.7642 - val_loss: 0.7464 - val_accuracy: 0.5810\n",
            "Epoch 23/50\n",
            "82/82 [==============================] - 1s 7ms/step - loss: 0.4614 - accuracy: 0.7810 - val_loss: 0.7309 - val_accuracy: 0.5963\n",
            "Epoch 24/50\n",
            "82/82 [==============================] - 1s 7ms/step - loss: 0.4479 - accuracy: 0.7833 - val_loss: 0.7587 - val_accuracy: 0.5933\n",
            "Epoch 25/50\n",
            "82/82 [==============================] - 1s 7ms/step - loss: 0.4401 - accuracy: 0.7848 - val_loss: 0.7458 - val_accuracy: 0.5963\n",
            "Epoch 26/50\n",
            "82/82 [==============================] - 1s 7ms/step - loss: 0.4253 - accuracy: 0.7971 - val_loss: 0.7570 - val_accuracy: 0.6086\n",
            "Epoch 27/50\n",
            "82/82 [==============================] - 1s 7ms/step - loss: 0.4221 - accuracy: 0.8055 - val_loss: 0.7787 - val_accuracy: 0.6024\n",
            "Epoch 28/50\n",
            "82/82 [==============================] - 1s 7ms/step - loss: 0.3989 - accuracy: 0.8193 - val_loss: 0.8085 - val_accuracy: 0.5933\n",
            "Epoch 29/50\n",
            "82/82 [==============================] - 1s 7ms/step - loss: 0.3922 - accuracy: 0.8162 - val_loss: 0.8132 - val_accuracy: 0.5872\n",
            "Epoch 30/50\n",
            "82/82 [==============================] - 1s 7ms/step - loss: 0.4083 - accuracy: 0.7994 - val_loss: 0.8014 - val_accuracy: 0.6055\n",
            "Epoch 31/50\n",
            "82/82 [==============================] - 1s 7ms/step - loss: 0.3860 - accuracy: 0.8155 - val_loss: 0.8616 - val_accuracy: 0.5780\n",
            "Epoch 32/50\n",
            "82/82 [==============================] - 1s 7ms/step - loss: 0.3774 - accuracy: 0.8178 - val_loss: 0.8624 - val_accuracy: 0.5688\n",
            "Epoch 33/50\n",
            "82/82 [==============================] - 1s 7ms/step - loss: 0.3991 - accuracy: 0.8155 - val_loss: 0.8395 - val_accuracy: 0.5933\n",
            "Epoch 34/50\n",
            "82/82 [==============================] - 0s 6ms/step - loss: 0.3489 - accuracy: 0.8369 - val_loss: 0.8737 - val_accuracy: 0.5933\n",
            "Epoch 35/50\n",
            "82/82 [==============================] - 0s 6ms/step - loss: 0.3690 - accuracy: 0.8400 - val_loss: 0.8379 - val_accuracy: 0.5810\n",
            "Epoch 36/50\n",
            "82/82 [==============================] - 0s 6ms/step - loss: 0.3591 - accuracy: 0.8453 - val_loss: 0.8398 - val_accuracy: 0.5872\n",
            "Epoch 37/50\n",
            "82/82 [==============================] - 0s 6ms/step - loss: 0.3377 - accuracy: 0.8476 - val_loss: 0.8720 - val_accuracy: 0.5780\n",
            "Epoch 38/50\n",
            "82/82 [==============================] - 0s 6ms/step - loss: 0.3463 - accuracy: 0.8438 - val_loss: 0.8960 - val_accuracy: 0.5780\n",
            "Epoch 39/50\n",
            "82/82 [==============================] - 0s 6ms/step - loss: 0.3224 - accuracy: 0.8591 - val_loss: 0.8993 - val_accuracy: 0.5933\n",
            "Epoch 40/50\n",
            "82/82 [==============================] - 0s 6ms/step - loss: 0.3362 - accuracy: 0.8515 - val_loss: 0.8691 - val_accuracy: 0.6055\n",
            "Epoch 41/50\n",
            "82/82 [==============================] - 0s 6ms/step - loss: 0.3269 - accuracy: 0.8545 - val_loss: 0.9032 - val_accuracy: 0.5963\n",
            "Epoch 42/50\n",
            "82/82 [==============================] - 0s 6ms/step - loss: 0.3055 - accuracy: 0.8714 - val_loss: 0.9012 - val_accuracy: 0.5933\n",
            "Epoch 43/50\n",
            "82/82 [==============================] - 0s 6ms/step - loss: 0.3325 - accuracy: 0.8499 - val_loss: 0.9212 - val_accuracy: 0.5810\n",
            "Epoch 44/50\n",
            "82/82 [==============================] - 0s 6ms/step - loss: 0.3098 - accuracy: 0.8606 - val_loss: 0.9676 - val_accuracy: 0.5872\n",
            "Epoch 45/50\n",
            "82/82 [==============================] - 0s 6ms/step - loss: 0.2954 - accuracy: 0.8729 - val_loss: 0.9699 - val_accuracy: 0.5994\n",
            "Epoch 46/50\n",
            "82/82 [==============================] - 0s 6ms/step - loss: 0.2875 - accuracy: 0.8752 - val_loss: 0.9411 - val_accuracy: 0.6055\n",
            "Epoch 47/50\n",
            "82/82 [==============================] - 0s 6ms/step - loss: 0.2878 - accuracy: 0.8714 - val_loss: 0.9533 - val_accuracy: 0.6208\n",
            "Epoch 48/50\n",
            "82/82 [==============================] - 0s 6ms/step - loss: 0.2635 - accuracy: 0.8867 - val_loss: 0.9805 - val_accuracy: 0.5963\n",
            "Epoch 49/50\n",
            "82/82 [==============================] - 0s 6ms/step - loss: 0.2693 - accuracy: 0.8882 - val_loss: 0.9696 - val_accuracy: 0.6086\n",
            "Epoch 50/50\n",
            "82/82 [==============================] - 0s 6ms/step - loss: 0.2626 - accuracy: 0.8882 - val_loss: 0.9848 - val_accuracy: 0.6147\n"
          ],
          "name": "stdout"
        }
      ]
    },
    {
      "cell_type": "code",
      "metadata": {
        "colab": {
          "base_uri": "https://localhost:8080/"
        },
        "id": "mONbLW89aFaV",
        "outputId": "0357afa9-37d9-43d6-ebb3-2c21866fec48"
      },
      "source": [
        "model.save('my_cnn', save_format='tf')\n",
        "\n",
        "model2 = keras.models.load_model('my_cnn') \n",
        "print(model2.summary())"
      ],
      "execution_count": 7,
      "outputs": [
        {
          "output_type": "stream",
          "text": [
            "WARNING:tensorflow:From /usr/local/lib/python3.6/dist-packages/tensorflow/python/training/tracking/tracking.py:111: Model.state_updates (from tensorflow.python.keras.engine.training) is deprecated and will be removed in a future version.\n",
            "Instructions for updating:\n",
            "This property should not be used in TensorFlow 2.0, as updates are applied automatically.\n",
            "WARNING:tensorflow:From /usr/local/lib/python3.6/dist-packages/tensorflow/python/training/tracking/tracking.py:111: Layer.updates (from tensorflow.python.keras.engine.base_layer) is deprecated and will be removed in a future version.\n",
            "Instructions for updating:\n",
            "This property should not be used in TensorFlow 2.0, as updates are applied automatically.\n",
            "INFO:tensorflow:Assets written to: my_cnn/assets\n",
            "Model: \"sequential\"\n",
            "_________________________________________________________________\n",
            "Layer (type)                 Output Shape              Param #   \n",
            "=================================================================\n",
            "conv2d (Conv2D)              (None, 126, 126, 64)      640       \n",
            "_________________________________________________________________\n",
            "max_pooling2d (MaxPooling2D) (None, 63, 63, 64)        0         \n",
            "_________________________________________________________________\n",
            "dropout (Dropout)            (None, 63, 63, 64)        0         \n",
            "_________________________________________________________________\n",
            "conv2d_1 (Conv2D)            (None, 61, 61, 32)        18464     \n",
            "_________________________________________________________________\n",
            "max_pooling2d_1 (MaxPooling2 (None, 30, 30, 32)        0         \n",
            "_________________________________________________________________\n",
            "conv2d_2 (Conv2D)            (None, 28, 28, 32)        9248      \n",
            "_________________________________________________________________\n",
            "max_pooling2d_2 (MaxPooling2 (None, 14, 14, 32)        0         \n",
            "_________________________________________________________________\n",
            "dropout_1 (Dropout)          (None, 14, 14, 32)        0         \n",
            "_________________________________________________________________\n",
            "flatten (Flatten)            (None, 6272)              0         \n",
            "_________________________________________________________________\n",
            "dense (Dense)                (None, 64)                401472    \n",
            "_________________________________________________________________\n",
            "dense_1 (Dense)              (None, 1)                 65        \n",
            "=================================================================\n",
            "Total params: 429,889\n",
            "Trainable params: 429,889\n",
            "Non-trainable params: 0\n",
            "_________________________________________________________________\n",
            "None\n"
          ],
          "name": "stdout"
        }
      ]
    },
    {
      "cell_type": "code",
      "metadata": {
        "colab": {
          "base_uri": "https://localhost:8080/",
          "height": 573
        },
        "id": "STd3CfW9DGkF",
        "outputId": "5aabeecc-b0c7-4b5e-c933-2e68d9453b96"
      },
      "source": [
        "# creating visual representation of training accuracy and loss\n",
        "# summarize history for accuracy\n",
        "plt.plot(history.history['accuracy'])\n",
        "plt.plot(history.history['val_accuracy'])\n",
        "plt.title('model accuracy')\n",
        "plt.ylabel('accuracy')\n",
        "plt.xlabel('epoch')\n",
        "plt.legend(['train', 'validation'], loc='upper left')\n",
        "plt.show()\n",
        "# summarize history for loss\n",
        "plt.plot(history.history['loss'])\n",
        "plt.plot(history.history['val_loss'])\n",
        "plt.title('model loss')\n",
        "plt.ylabel('loss')\n",
        "plt.xlabel('epoch')\n",
        "plt.legend(['train', 'validation'], loc='upper left')\n",
        "plt.show()"
      ],
      "execution_count": 11,
      "outputs": [
        {
          "output_type": "display_data",
          "data": {
            "image/png": "[encoded data removed]",
            "text/plain": [
              "<Figure size 432x288 with 1 Axes>"
            ]
          },
          "metadata": {
            "tags": [],
            "needs_background": "light"
          }
        },
        {
          "output_type": "display_data",
          "data": {
            "image/png": "[encoded data removed]",
            "text/plain": [
              "<Figure size 432x288 with 1 Axes>"
            ]
          },
          "metadata": {
            "tags": [],
            "needs_background": "light"
          }
        }
      ]
    },
    {
      "cell_type": "code",
      "metadata": {
        "colab": {
          "base_uri": "https://localhost:8080/"
        },
        "id": "CZZBc2r_DEfs",
        "outputId": "1d432f29-2924-41b0-a283-6915fb8b79e4"
      },
      "source": [
        "#Predictions\n",
        "yhat_probs = model2.predict(test_img, verbose=0)\n",
        "# predict crisp classes for test set\n",
        "yhat_classes = model2.predict_classes(test_img, verbose=0)\n",
        "# reduce to 1d array\n",
        "yhat_probs = yhat_probs[:, 0]\n",
        "yhat_classes = yhat_classes[:, 0]\n",
        "\n",
        "#Printing metrices\n",
        "# accuracy: (tp + tn) / (p + n)\n",
        "accuracy = accuracy_score(test_lab, yhat_classes)\n",
        "print('Accuracy: %f' % accuracy)\n",
        "# precision tp / (tp + fp)\n",
        "precision = precision_score(test_lab, yhat_classes)\n",
        "print('Precision: %f' % precision)\n",
        "# recall: tp / (tp + fn)\n",
        "recall = recall_score(test_lab, yhat_classes)\n",
        "print('Recall: %f' % recall)\n",
        "# f1: 2 tp / (2 tp + fp + fn)\n",
        "f1 = f1_score(test_lab, yhat_classes)\n",
        "print('F1 score: %f' % f1)\n",
        " \n",
        "# confusion matrix\n",
        "matrix = confusion_matrix(test_lab, yhat_classes)\n",
        "print(matrix)\n",
        "\n",
        "average_precision = average_precision_score(test_lab, yhat_classes)\n",
        "print(average_precision)\n"
      ],
      "execution_count": 12,
      "outputs": [
        {
          "output_type": "stream",
          "text": [
            "Accuracy: 0.588235\n",
            "Precision: 0.574074\n",
            "Recall: 0.484375\n",
            "F1 score: 0.525424\n",
            "[[147  69]\n",
            " [ 99  93]]\n",
            "0.5207141884531591\n"
          ],
          "name": "stdout"
        }
      ]
    }
  ]
}